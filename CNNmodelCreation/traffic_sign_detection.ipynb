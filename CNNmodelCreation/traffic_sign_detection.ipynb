{
 "cells": [
  {
   "cell_type": "code",
   "execution_count": 11,
   "id": "bf7fdf05-f4be-4078-b972-07c28f36a783",
   "metadata": {},
   "outputs": [],
   "source": [
    "import os\n",
    "\n",
    "import cv2\n",
    "import matplotlib.pyplot as plt\n",
    "import numpy as np\n",
    "import pandas as pd\n",
    "import seaborn as sns\n",
    "import tensorflow as tf\n",
    "from PIL import Image\n",
    "from sklearn.metrics import accuracy_score, confusion_matrix\n",
    "from sklearn.model_selection import train_test_split\n",
    "from tensorflow import keras\n",
    "from tensorflow.keras.optimizers import Adam\n",
    "from tensorflow.keras.preprocessing.image import ImageDataGenerator\n",
    "\n",
    "DATA_PATH = \"dataset/\""
   ]
  },
  {
   "cell_type": "code",
   "execution_count": 2,
   "id": "a0d7f1a6-f54a-4bbb-9d1d-248b416d99d0",
   "metadata": {},
   "outputs": [
    {
     "data": {
      "text/plain": [
       "[PhysicalDevice(name='/physical_device:GPU:0', device_type='GPU')]"
      ]
     },
     "execution_count": 2,
     "metadata": {},
     "output_type": "execute_result"
    }
   ],
   "source": [
    "tf.config.list_physical_devices(\"GPU\")"
   ]
  },
  {
   "cell_type": "code",
   "execution_count": 3,
   "id": "4023a83e-0b11-4e30-bfe4-56cbb7790660",
   "metadata": {},
   "outputs": [],
   "source": [
    "meta_df = pd.read_csv(f\"{DATA_PATH}Meta.csv\")\n",
    "train_df = pd.read_csv(f\"{DATA_PATH}Train.csv\")\n",
    "test_df = pd.read_csv(f\"{DATA_PATH}Test.csv\")"
   ]
  },
  {
   "cell_type": "code",
   "execution_count": 4,
   "id": "69557315-a640-4b2f-8756-1594b8028d54",
   "metadata": {},
   "outputs": [],
   "source": [
    "## Input data size\n",
    "image_width = 30\n",
    "image_height = 30\n",
    "channels = 3  # RGB"
   ]
  },
  {
   "cell_type": "code",
   "execution_count": 5,
   "id": "e3e3cde6-d618-4eaf-b814-c47209c46aab",
   "metadata": {},
   "outputs": [
    {
     "data": {
      "text/plain": [
       "43"
      ]
     },
     "execution_count": 5,
     "metadata": {},
     "output_type": "execute_result"
    }
   ],
   "source": [
    "num_classes = len(meta_df[\"ClassId\"].value_counts())\n",
    "num_classes"
   ]
  },
  {
   "cell_type": "code",
   "execution_count": 6,
   "id": "a79b3a79-2243-4dd1-b904-cee76e740844",
   "metadata": {},
   "outputs": [],
   "source": [
    "## load train data\n",
    "data = []\n",
    "labels = []\n",
    "\n",
    "for i in range(num_classes):\n",
    "    train_path = f\"{DATA_PATH}Train/{i}\"\n",
    "    images = os.listdir(train_path)  # all images of the i-th class\n",
    "\n",
    "    for image_path in images:\n",
    "        image = cv2.imread(f\"{train_path}/{image_path}\")\n",
    "        image_from_array = Image.fromarray(image, \"RGB\")\n",
    "        resized_image = image_from_array.resize((image_height, image_width))\n",
    "        data.append(np.array(resized_image))\n",
    "        labels.append(i)  # image directories are divided by label, use index as label\n",
    "\n",
    "data = np.array(data) / 255\n",
    "labels = np.array(labels)"
   ]
  },
  {
   "cell_type": "code",
   "execution_count": 7,
   "id": "b43c6240-a9dd-4034-b3ed-76418e1c7897",
   "metadata": {},
   "outputs": [],
   "source": [
    "## Split into training and validation split\n",
    "X_train, X_val, y_train, y_val = train_test_split(\n",
    "    data, labels, test_size=0.2, shuffle=True, random_state=42\n",
    ")"
   ]
  },
  {
   "cell_type": "code",
   "execution_count": 8,
   "id": "a57887c9-73ac-4c98-af54-13fe5f51e9ec",
   "metadata": {},
   "outputs": [],
   "source": [
    "## Model creation\n",
    "model = keras.models.Sequential(\n",
    "    [\n",
    "        keras.layers.Conv2D(\n",
    "            filters=16,\n",
    "            kernel_size=(3, 3),\n",
    "            activation=\"relu\",\n",
    "            input_shape=(image_height, image_width, channels),\n",
    "        ),\n",
    "        keras.layers.Conv2D(filters=32, kernel_size=(3, 3), activation=\"relu\"),\n",
    "        keras.layers.MaxPool2D(pool_size=(2, 2)),\n",
    "        keras.layers.BatchNormalization(axis=-1),\n",
    "        keras.layers.Conv2D(filters=64, kernel_size=(3, 3), activation=\"relu\"),\n",
    "        keras.layers.Conv2D(filters=128, kernel_size=(3, 3), activation=\"relu\"),\n",
    "        keras.layers.MaxPool2D(pool_size=(2, 2)),\n",
    "        keras.layers.BatchNormalization(axis=-1),\n",
    "        keras.layers.Flatten(),\n",
    "        keras.layers.Dense(512, activation=\"relu\"),\n",
    "        keras.layers.BatchNormalization(),\n",
    "        keras.layers.Dropout(rate=0.5),\n",
    "        keras.layers.Dense(num_classes, activation=\"softmax\"),\n",
    "    ]\n",
    ")"
   ]
  },
  {
   "cell_type": "code",
   "execution_count": 9,
   "id": "6f119ad2-a8cc-4a29-a934-eeb8a47a2d00",
   "metadata": {},
   "outputs": [],
   "source": [
    "## training parameters\n",
    "lr = 0.001\n",
    "numEpochs = 30\n",
    "optimizer = Adam(learning_rate=lr, decay=lr / (numEpochs * 0.5))\n",
    "batch_size = 16\n",
    "model.compile(\n",
    "    loss=tf.keras.losses.SparseCategoricalCrossentropy(),\n",
    "    optimizer=optimizer,\n",
    "    metrics=[\"accuracy\"],\n",
    ")"
   ]
  },
  {
   "cell_type": "code",
   "execution_count": 10,
   "id": "2865b7c0-353c-4fb3-bea9-7fb4d8a8e797",
   "metadata": {},
   "outputs": [],
   "source": [
    "## Data augmentation\n",
    "augmentation = ImageDataGenerator(\n",
    "    rotation_range=10,\n",
    "    zoom_range=0.2,\n",
    "    width_shift_range=0.1,\n",
    "    height_shift_range=0.1,\n",
    "    shear_range=0.1,\n",
    ")\n",
    "\n",
    "augmented_data = augmentation.flow(X_train, y_train, batch_size=batch_size)"
   ]
  },
  {
   "cell_type": "code",
   "execution_count": 11,
   "id": "3c00fa48-a076-4115-8bbe-e26f8761d6ac",
   "metadata": {},
   "outputs": [
    {
     "name": "stdout",
     "output_type": "stream",
     "text": [
      "Virtual devices cannot be modified after being initialized\n"
     ]
    }
   ],
   "source": [
    "gpus = tf.config.list_physical_devices(\"GPU\")\n",
    "if gpus:\n",
    "    # Restrict TensorFlow to only allocate 1GB of memory on the first GPU\n",
    "    try:\n",
    "        tf.config.set_logical_device_configuration(\n",
    "            gpus[0], [tf.config.LogicalDeviceConfiguration(memory_limit=1024)]\n",
    "        )\n",
    "        logical_gpus = tf.config.list_logical_devices(\"GPU\")\n",
    "        print(len(gpus), \"Physical GPUs,\", len(logical_gpus), \"Logical GPUs\")\n",
    "    except RuntimeError as e:\n",
    "        # Virtual devices must be set before GPUs have been initialized\n",
    "        print(e)"
   ]
  },
  {
   "cell_type": "code",
   "execution_count": null,
   "id": "c4c20f1c-273c-46ef-af2e-65a13f5f63bf",
   "metadata": {},
   "outputs": [],
   "source": [
    "callback = tf.keras.callbacks.EarlyStopping(\n",
    "    monitor=\"loss\", patience=3, restore_best_weights=True\n",
    ")\n",
    "history = model.fit(\n",
    "    augmented_data,\n",
    "    epochs=numEpochs,\n",
    "    validation_data=(X_val, y_val),\n",
    "    callbacks=[callback],\n",
    ")"
   ]
  },
  {
   "cell_type": "code",
   "execution_count": 6,
   "id": "ea649f43-cf83-4036-a859-70397a7eb6f6",
   "metadata": {},
   "outputs": [],
   "source": [
    "labels = test_df[\"ClassId\"].values\n",
    "images = test_df[\"Path\"].values\n",
    "\n",
    "data = []\n",
    "\n",
    "for img in images:\n",
    "    try:\n",
    "        path = DATA_PATH + img\n",
    "        image = cv2.imread(path)\n",
    "        image_fromarray = Image.fromarray(image, \"RGB\")\n",
    "        resize_image = image_fromarray.resize((image_height, image_width))\n",
    "        data.append(np.array(resize_image))\n",
    "    except Error as e:\n",
    "        print(e)\n",
    "X_test = np.array(data)\n",
    "X_test = X_test / 255"
   ]
  },
  {
   "cell_type": "code",
   "execution_count": 35,
   "id": "96e97bf5-9374-4597-a214-0d00746ec648",
   "metadata": {},
   "outputs": [
    {
     "name": "stdout",
     "output_type": "stream",
     "text": [
      "Test Data accuracy:  98.65399841646872\n"
     ]
    }
   ],
   "source": [
    "predictions = model.predict(X_test)\n",
    "predictions = np.argmax(predictions, axis=1)\n",
    "# Accuracy with the test data\n",
    "print(\"Test Data accuracy: \", accuracy_score(labels, predictions) * 100)"
   ]
  },
  {
   "cell_type": "raw",
   "id": "f1686e5e-19fb-4199-862b-172c81c8a761",
   "metadata": {},
   "source": [
    "model.save(\"trafficSignModel\")"
   ]
  },
  {
   "cell_type": "code",
   "execution_count": 7,
   "id": "6b36f35f-0d84-433c-bdff-42f5079eb7c6",
   "metadata": {},
   "outputs": [],
   "source": [
    "model = tf.keras.models.load_model(\"trafficSignModel\")"
   ]
  },
  {
   "cell_type": "code",
   "execution_count": 8,
   "id": "3bb5e8de-e27b-485b-8464-ee40752ec408",
   "metadata": {},
   "outputs": [
    {
     "name": "stdout",
     "output_type": "stream",
     "text": [
      "395/395 [==============================] - 3s 2ms/step\n",
      "Test Data accuracy:  98.65399841646872\n"
     ]
    }
   ],
   "source": [
    "predictions = model.predict(X_test)\n",
    "predictions = np.argmax(predictions, axis=1)\n",
    "# Accuracy with the test data\n",
    "print(\"Test Data accuracy: \", accuracy_score(labels, predictions) * 100)"
   ]
  },
  {
   "cell_type": "code",
   "execution_count": 19,
   "id": "8d0c1990-3409-48f6-acca-b0e546655ac0",
   "metadata": {},
   "outputs": [
    {
     "data": {
      "text/plain": [
       "array([[ 60,   0,   0, ...,   0,   0,   0],\n",
       "       [  0, 719,   0, ...,   0,   0,   0],\n",
       "       [  0,   1, 748, ...,   0,   0,   0],\n",
       "       ...,\n",
       "       [  0,   0,   0, ...,  88,   0,   0],\n",
       "       [  0,   0,   0, ...,   0,  60,   0],\n",
       "       [  0,   0,   0, ...,   0,   2,  88]], dtype=int64)"
      ]
     },
     "execution_count": 19,
     "metadata": {},
     "output_type": "execute_result"
    }
   ],
   "source": [
    "from sklearn.metrics import confusion_matrix\n",
    "\n",
    "conf = confusion_matrix(labels, predictions)"
   ]
  },
  {
   "cell_type": "code",
   "execution_count": 24,
   "id": "53e7985c-75c8-4345-b504-c1d402399464",
   "metadata": {},
   "outputs": [
    {
     "data": {
      "image/png": "[encoded data removed]",
      "text/plain": [
       "<Figure size 2160x2160 with 2 Axes>"
      ]
     },
     "metadata": {
      "needs_background": "light"
     },
     "output_type": "display_data"
    }
   ],
   "source": [
    "plt.figure(figsize=(30, 30))\n",
    "sns.heatmap(conf, annot=True, fmt=\"d\")\n",
    "plt.savefig(\"conf_matrix.png\")"
   ]
  },
  {
   "cell_type": "markdown",
   "id": "fb346f63-68bc-4bc1-a243-d1e41a8f4e29",
   "metadata": {},
   "source": [
    "# Model conversion"
   ]
  },
  {
   "cell_type": "code",
   "execution_count": 3,
   "id": "1ffb50c5-f98a-455b-be10-3eae0ba48dda",
   "metadata": {},
   "outputs": [],
   "source": [
    "converter = tf.lite.TFLiteConverter.from_saved_model(\"trafficSignModel\")\n",
    "tflite_model = converter.convert()\n",
    "\n",
    "# Save the model.\n",
    "with open(\"cnn.tflite\", \"wb\") as f:\n",
    "    f.write(tflite_model)"
   ]
  },
  {
   "cell_type": "code",
   "execution_count": 4,
   "id": "84e16514-0aa9-482d-a7db-48297b42dd14",
   "metadata": {},
   "outputs": [],
   "source": [
    "## metadata\n",
    "from tflite_support import flatbuffers\n",
    "from tflite_support import metadata as _metadata\n",
    "from tflite_support import metadata_schema_py_generated as _metadata_fb\n",
    "\n",
    "\"\"\" ... \"\"\"\n",
    "\"\"\"Creates the metadata for an image classifier.\"\"\"\n",
    "\n",
    "# Creates model info.\n",
    "model_meta = _metadata_fb.ModelMetadataT()\n",
    "model_meta.name = \"Traffic sign classifier\"\n",
    "model_meta.description = \"Identify German Traffic signs\"\n",
    "model_meta.version = \"v1\"\n",
    "model_meta.author = \"akletini\"\n",
    "model_meta.license = (\n",
    "    \"Apache License. Version 2.0 \" \"http://www.apache.org/licenses/LICENSE-2.0.\"\n",
    ")"
   ]
  },
  {
   "cell_type": "code",
   "execution_count": 5,
   "id": "4194bc6b-bd2d-488a-8456-75a4896fdeb7",
   "metadata": {},
   "outputs": [],
   "source": [
    "# Creates input info.\n",
    "input_meta = _metadata_fb.TensorMetadataT()\n",
    "\n",
    "# Creates output info.\n",
    "output_meta = _metadata_fb.TensorMetadataT()"
   ]
  },
  {
   "cell_type": "code",
   "execution_count": 6,
   "id": "d714ed07-7ea6-42f2-9baa-cce18c087739",
   "metadata": {},
   "outputs": [],
   "source": [
    "input_meta.name = \"image\"\n",
    "input_meta.description = (\n",
    "    \"Input image to be classified. The expected image is {0} x {1}, with \"\n",
    "    \"three channels (red, blue, and green) per pixel. Each value in the \"\n",
    "    \"tensor is a single byte between 0 and 255.\".format(30, 30)\n",
    ")\n",
    "input_meta.content = _metadata_fb.ContentT()\n",
    "input_meta.content.contentProperties = _metadata_fb.ImagePropertiesT()\n",
    "input_meta.content.contentProperties.colorSpace = _metadata_fb.ColorSpaceType.RGB\n",
    "input_meta.content.contentPropertiesType = (\n",
    "    _metadata_fb.ContentProperties.ImageProperties\n",
    ")\n",
    "input_normalization = _metadata_fb.ProcessUnitT()\n",
    "input_normalization.optionsType = _metadata_fb.ProcessUnitOptions.NormalizationOptions\n",
    "input_normalization.options = _metadata_fb.NormalizationOptionsT()\n",
    "input_normalization.options.mean = [127.5]\n",
    "input_normalization.options.std = [127.5]\n",
    "input_meta.processUnits = [input_normalization]\n",
    "input_stats = _metadata_fb.StatsT()\n",
    "input_stats.max = [255]\n",
    "input_stats.min = [0]\n",
    "input_meta.stats = input_stats"
   ]
  },
  {
   "cell_type": "code",
   "execution_count": 7,
   "id": "782902a2-5ec7-4313-9eee-c1e6e2ab1ae6",
   "metadata": {
    "tags": []
   },
   "outputs": [],
   "source": [
    "# Creates output info.\n",
    "output_meta = _metadata_fb.TensorMetadataT()\n",
    "output_meta.name = \"probability\"\n",
    "output_meta.description = \"Probabilities of the 43 labels respectively.\"\n",
    "output_meta.content = _metadata_fb.ContentT()\n",
    "output_meta.content.content_properties = _metadata_fb.FeaturePropertiesT()\n",
    "output_meta.content.contentPropertiesType = (\n",
    "    _metadata_fb.ContentProperties.FeatureProperties\n",
    ")\n",
    "output_stats = _metadata_fb.StatsT()\n",
    "output_stats.max = [1.0]\n",
    "output_stats.min = [0.0]\n",
    "output_meta.stats = output_stats\n",
    "label_file = _metadata_fb.AssociatedFileT()\n",
    "label_file.name = os.path.basename(\"labels.txt\")\n",
    "label_file.description = \"Labels for objects that the model can recognize.\"\n",
    "label_file.type = _metadata_fb.AssociatedFileType.TENSOR_AXIS_LABELS\n",
    "output_meta.associatedFiles = [label_file]"
   ]
  },
  {
   "cell_type": "code",
   "execution_count": 8,
   "id": "d35c295a-203f-4398-a971-6704862a2d0f",
   "metadata": {},
   "outputs": [],
   "source": [
    "# Creates subgraph info.\n",
    "subgraph = _metadata_fb.SubGraphMetadataT()\n",
    "subgraph.inputTensorMetadata = [input_meta]\n",
    "subgraph.outputTensorMetadata = [output_meta]\n",
    "model_meta.subgraphMetadata = [subgraph]\n",
    "\n",
    "b = flatbuffers.Builder(0)\n",
    "b.Finish(model_meta.Pack(b), _metadata.MetadataPopulator.METADATA_FILE_IDENTIFIER)\n",
    "metadata_buf = b.Output()"
   ]
  },
  {
   "cell_type": "code",
   "execution_count": 9,
   "id": "708c4e1e-5e7a-462e-83dd-37a20c79ba6a",
   "metadata": {},
   "outputs": [],
   "source": [
    "populator = _metadata.MetadataPopulator.with_model_file(\"cnn.tflite\")\n",
    "populator.load_metadata_buffer(metadata_buf)\n",
    "populator.load_associated_files([\"labels.txt\"])\n",
    "populator.populate()"
   ]
  },
  {
   "cell_type": "code",
   "execution_count": 10,
   "id": "72b3df17-fe6f-49a7-81cf-e08660f217bd",
   "metadata": {},
   "outputs": [],
   "source": [
    "displayer = _metadata.MetadataDisplayer.with_model_file(\"model.tflite\")\n",
    "export_json_file = \"export.json\"\n",
    "json_file = displayer.get_metadata_json()\n",
    "# Optional: write out the metadata as a json file\n",
    "with open(export_json_file, \"w\") as f:\n",
    "    f.write(json_file)"
   ]
  },
  {
   "cell_type": "markdown",
   "id": "3300b222-33ba-4206-8997-68e626241f76",
   "metadata": {},
   "source": [
    "# Eval"
   ]
  },
  {
   "cell_type": "code",
   "execution_count": 16,
   "id": "3cca6041-74e7-4ae8-93ff-f9c881076707",
   "metadata": {},
   "outputs": [],
   "source": [
    "# Load the TFLite model and allocate tensors.\n",
    "interpreter = tf.lite.Interpreter(model_path=\"model.tflite\")\n",
    "interpreter.allocate_tensors()"
   ]
  },
  {
   "cell_type": "code",
   "execution_count": 17,
   "id": "80f1fb32-0c4e-4aae-b042-d5cb403d2ae7",
   "metadata": {},
   "outputs": [],
   "source": [
    "# Get input and output tensors.\n",
    "input_details = interpreter.get_input_details()\n",
    "output_details = interpreter.get_output_details()"
   ]
  },
  {
   "cell_type": "code",
   "execution_count": 52,
   "id": "1ba3ac0f-2587-4eca-be14-647dc3dc2e5f",
   "metadata": {},
   "outputs": [],
   "source": [
    "truths = []\n",
    "for i in range(len(X_test) - 1):\n",
    "    # Test the model on random input data.\n",
    "    input_shape = input_details[0][\"shape\"]\n",
    "    input_data = X_test[i : i + 1].astype(np.float32)\n",
    "    interpreter.set_tensor(input_details[0][\"index\"], input_data)\n",
    "    interpreter.invoke()\n",
    "    output_data = np.argmax(interpreter.get_tensor(output_details[0][\"index\"]))\n",
    "    if labels[i] == output_data:\n",
    "        truths.append(1)"
   ]
  },
  {
   "cell_type": "code",
   "execution_count": 54,
   "id": "6e981110-841e-470e-a193-fdbbde877da2",
   "metadata": {},
   "outputs": [
    {
     "name": "stdout",
     "output_type": "stream",
     "text": [
      "0.9864608076009501\n"
     ]
    }
   ],
   "source": [
    "print(len(truths) / len(labels))"
   ]
  }
 ],
 "metadata": {
  "kernelspec": {
   "display_name": "Python 3 (ipykernel)",
   "language": "python",
   "name": "python3"
  },
  "language_info": {
   "codemirror_mode": {
    "name": "ipython",
    "version": 3
   },
   "file_extension": ".py",
   "mimetype": "text/x-python",
   "name": "python",
   "nbconvert_exporter": "python",
   "pygments_lexer": "ipython3",
   "version": "3.9.1"
  },
  "vscode": {
   "interpreter": {
    "hash": "2e047b4f6ab1869b8c4ce2231ae22735c3cc377dfcbab30b7b57d4ad8c5dc42e"
   }
  }
 },
 "nbformat": 4,
 "nbformat_minor": 5
}
